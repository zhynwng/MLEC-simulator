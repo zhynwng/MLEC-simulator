{
 "cells": [
  {
   "cell_type": "markdown",
   "id": "549ee8d5-4f5a-4930-980b-9e5438f3567d",
   "metadata": {
    "tags": []
   },
   "source": [
    "# SC23 MLEC Artifact"
   ]
  },
  {
   "cell_type": "markdown",
   "id": "e86a1f81-6d4e-40f4-97c8-6e8bedd13be5",
   "metadata": {},
   "source": [
    "---"
   ]
  },
  {
   "cell_type": "markdown",
   "id": "bffffcbf-204b-45af-9b48-f454a2ed681d",
   "metadata": {},
   "source": [
    "## Create experiment container\n",
    "\n",
    "This container provides the following:\n",
    "\n",
    "- One node of any types\n",
    "- One public IP\n",
    "\n",
    "### Configuration\n",
    "\n",
    "Here we use the project \"SC23 Reproducibility\" with ID \"CHI-221071\". You might need to enter your own project ID if you in some other Chameleon project.\n",
    "We will reserve a zen3 compute node from CHI@TACC site."
   ]
  },
  {
   "cell_type": "code",
   "execution_count": 1,
   "id": "46a7fa78-4e72-4e24-be88-227d9046a4c0",
   "metadata": {},
   "outputs": [
    {
     "name": "stdout",
     "output_type": "stream",
     "text": [
      "Now using CHI@TACC:\n",
      "URL: https://chi.tacc.chameleoncloud.org\n",
      "Location: Austin, Texas, USA\n",
      "Support contact: help@chameleoncloud.org\n",
      "Using Project CHI-221071\n"
     ]
    }
   ],
   "source": [
    "import chi\n",
    "\n",
    "chi.use_site(\"CHI@TACC\")\n",
    "chi.set(\"project_name\", \"CHI-221071\")\n",
    "\n",
    "print(f'Using Project {chi.get(\"project_name\")}')"
   ]
  },
  {
   "cell_type": "code",
   "execution_count": 2,
   "id": "7e45e94e-3f29-4501-b62c-cc6782c25166",
   "metadata": {},
   "outputs": [],
   "source": [
    "import os\n",
    "\n",
    "USER = os.getenv('USER')"
   ]
  },
  {
   "cell_type": "markdown",
   "id": "49f2f3b6-1dad-4c99-9bd3-7605484127a7",
   "metadata": {},
   "source": [
    "### Create reservation\n",
    "\n",
    "Chameleon resources need to be reserved before they can be used. \n",
    "We will reserve one bare metal node and one public IP address, for right now.\n",
    "\n",
    "For MLEC simulation, we need a compute node with **ideally >200 cores**. Here we reserve the **zen3 compute node**.\n",
    "\n",
    "If you get an error such as \"no host available\", it may be the case that all the requested nodes are reserved. Check the availiablility calendar to see if this is true:\n",
    "https://chi.tacc.chameleoncloud.org/project/leases/calendar/host/\n",
    "\n",
    "It may take around a minute or so for your lease to become active."
   ]
  },
  {
   "cell_type": "code",
   "execution_count": 3,
   "id": "0c82fd92-3b33-4737-9ced-0f04ffc94c0a",
   "metadata": {},
   "outputs": [
    {
     "name": "stdout",
     "output_type": "stream",
     "text": [
      "Creating lease with name = wangm12-sc23-mlec-1687986082...\n",
      "Waiting for lease to start ...\n",
      "Lease is now active!\n"
     ]
    }
   ],
   "source": [
    "import time\n",
    "import keystoneauth1, blazarclient\n",
    "from chi import lease\n",
    "\n",
    "reservations = []\n",
    "reservation_req_time = int(time.time())\n",
    "LEASE_KEY = f\"{USER}-sc23-mlec-{reservation_req_time}\"\n",
    "\n",
    "try:\n",
    "    print(f\"Creating lease with name = {LEASE_KEY}...\")\n",
    "    lease.add_fip_reservation(reservations, count=1)\n",
    "    lease.add_node_reservation(reservations,\n",
    "                               resource_properties=[\"=\", \"$node_type\", \"compute_zen3\"],  # reserve zen3 compute node\n",
    "                               count=1)\n",
    "\n",
    "    start_date, end_date = lease.lease_duration(hours=0, days=5) # reserve the node for 5 days\n",
    "\n",
    "    l = lease.create_lease(\n",
    "        LEASE_KEY, \n",
    "        reservations, \n",
    "        start_date=start_date, \n",
    "        end_date=end_date\n",
    "    )\n",
    "    lease_id = l[\"id\"]\n",
    "\n",
    "    print(\"Waiting for lease to start ...\")\n",
    "    lease.wait_for_active(lease_id)\n",
    "    print(\"Lease is now active!\")\n",
    "except blazarclient.exception.BlazarClientException as e:\n",
    "    print(f\"There is an issue making the reservation. Check the calendar to make sure a {lease_node_type} node is available.\")\n",
    "    print(\"https://chi.tacc.chameleoncloud.org/project/leases/calendar/host/\")\n",
    "    print(e)\n",
    "except Exception as e:\n",
    "    print(\"An unexpected error happened.\")\n",
    "    print(e)"
   ]
  },
  {
   "cell_type": "markdown",
   "id": "bc2052fb-d840-4034-8921-7306e3a8eab9",
   "metadata": {
    "tags": []
   },
   "source": [
    "### Provision bare metal node\n",
    "\n",
    "Next, we will launch the reserved node with the image \"CC-Ubuntu20.04\".\n",
    "It will take approximately 10 minutes for the bare metal node to be successfully provisioned. \n",
    "\n",
    "During this 10 minutes, the requested image is configured, downloaded and copied onto the hard drive, and the node is configured to reboot to the new OS. "
   ]
  },
  {
   "cell_type": "code",
   "execution_count": 5,
   "id": "526c44e5-0cd9-442b-987d-50a085040065",
   "metadata": {},
   "outputs": [
    {
     "name": "stdout",
     "output_type": "stream",
     "text": [
      "Waiting for server to start ... This could take ~10 minutes.\n",
      "Waiting...\n",
      "Done\n"
     ]
    }
   ],
   "source": [
    "from chi import server\n",
    "\n",
    "image = \"CC-Ubuntu20.04\"\n",
    "\n",
    "s = server.create_server(\n",
    "    LEASE_KEY, \n",
    "    image_name=image,\n",
    "    reservation_id=lease.get_node_reservation(lease_id)\n",
    ")\n",
    "\n",
    "print(\"Waiting for server to start ... This could take ~10 minutes.\")\n",
    "print(\"Waiting...\")\n",
    "server.wait_for_active(s.id)\n",
    "print(\"Done\")"
   ]
  },
  {
   "cell_type": "markdown",
   "id": "a804a0fe-bfb5-4ea1-9d08-5d214c8b5920",
   "metadata": {},
   "source": [
    "By default the node is only connected to a private network and thus not reachable over the internet or via Jupyter here. We need to associate a \"Floating IP\" to the node, which gives it the public address we reserved."
   ]
  },
  {
   "cell_type": "code",
   "execution_count": 6,
   "id": "7309991a-12f1-4245-a152-e8f2bb311572",
   "metadata": {},
   "outputs": [
    {
     "name": "stdout",
     "output_type": "stream",
     "text": [
      "Waiting for SSH connectivity on 129.114.109.238 ...\n",
      "Timeout: after 120 seconds, could not connect via SSH. please wait until SSH is up and ready\n",
      "Timeout: after 120 seconds, could not connect via SSH. please wait until SSH is up and ready\n",
      "Timeout: after 120 seconds, could not connect via SSH. please wait until SSH is up and ready\n",
      "Timeout: after 120 seconds, could not connect via SSH. please wait until SSH is up and ready\n",
      "Timeout: after 120 seconds, could not connect via SSH. please wait until SSH is up and ready\n",
      "Timeout: after 120 seconds, could not connect via SSH. please wait until SSH is up and ready\n",
      "Timeout: after 120 seconds, could not connect via SSH. please wait until SSH is up and ready\n",
      "Timeout: after 120 seconds, could not connect via SSH. please wait until SSH is up and ready\n",
      "Timeout: after 120 seconds, could not connect via SSH. please wait until SSH is up and ready\n",
      "Timeout: after 120 seconds, could not connect via SSH. please wait until SSH is up and ready\n",
      "Timeout: after 120 seconds, could not connect via SSH. please wait until SSH is up and ready\n",
      "Timeout: after 120 seconds, could not connect via SSH. please wait until SSH is up and ready\n",
      "Timeout: after 120 seconds, could not connect via SSH. please wait until SSH is up and ready\n",
      "Timeout: after 120 seconds, could not connect via SSH. please wait until SSH is up and ready\n",
      "Timeout: after 120 seconds, could not connect via SSH. please wait until SSH is up and ready\n",
      "Timeout: after 120 seconds, could not connect via SSH. please wait until SSH is up and ready\n",
      "Timeout: after 120 seconds, could not connect via SSH. please wait until SSH is up and ready\n",
      "Timeout: after 120 seconds, could not connect via SSH. please wait until SSH is up and ready\n",
      "Timeout: after 120 seconds, could not connect via SSH. please wait until SSH is up and ready\n",
      "Timeout: after 120 seconds, could not connect via SSH. please wait until SSH is up and ready\n",
      "Timeout: after 120 seconds, could not connect via SSH. please wait until SSH is up and ready\n",
      "Timeout: after 120 seconds, could not connect via SSH. please wait until SSH is up and ready\n",
      "Timeout: after 120 seconds, could not connect via SSH. please wait until SSH is up and ready\n",
      "Timeout: after 120 seconds, could not connect via SSH. please wait until SSH is up and ready\n",
      "Timeout: after 120 seconds, could not connect via SSH. please wait until SSH is up and ready\n",
      "Timeout: after 120 seconds, could not connect via SSH. please wait until SSH is up and ready\n",
      "Connection successful\n"
     ]
    }
   ],
   "source": [
    "floating_ip = lease.get_reserved_floating_ips(lease_id)[0]\n",
    "server.associate_floating_ip(s.id, floating_ip_address=floating_ip)\n",
    "\n",
    "print(f\"Waiting for SSH connectivity on {floating_ip} ...\")\n",
    "timeout = 60 * 2\n",
    "import socket\n",
    "import time\n",
    "# Repeatedly try to connect via SSH.\n",
    "start_time = time.perf_counter()\n",
    "while True:\n",
    "    try:\n",
    "        with socket.create_connection((floating_ip, 22), timeout=timeout):\n",
    "            print(\"Connection successful\")\n",
    "            break\n",
    "    except OSError as ex:\n",
    "        time.sleep(10)\n",
    "        if time.perf_counter() - start_time >= timeout:\n",
    "            print(f\"Timeout: after {timeout} seconds, could not connect via SSH. please wait until SSH is up and ready\")"
   ]
  },
  {
   "cell_type": "markdown",
   "id": "6ad50c9a-fd99-4269-8a2c-a383b80e376a",
   "metadata": {},
   "source": [
    "<br />\n",
    "\n",
    "## Saving Session\n",
    "\n",
    "<div class=\"alert alert-block alert-info\">Note: This is needed to pass variables between notebook files such as <b>floating_ip</b> and <b>reservation_id</b></div>"
   ]
  },
  {
   "cell_type": "code",
   "execution_count": 7,
   "id": "7c2d61aa-6529-4315-905d-e8ea32554de9",
   "metadata": {},
   "outputs": [
    {
     "data": {
      "text/plain": [
       "{'floating_ip': '129.114.109.238',\n",
       " 'reservation_id': '8792b8b3-f55e-48fd-ab2f-8d36d6d58ee1',\n",
       " 'server_id': '1238e209-9331-4e20-b556-3969158441e5'}"
      ]
     },
     "execution_count": 7,
     "metadata": {},
     "output_type": "execute_result"
    }
   ],
   "source": [
    "import scripts.session as session\n",
    "\n",
    "session.clear()\n",
    "session.save({ \"floating_ip\": floating_ip, \"reservation_id\": lease_id, \"server_id\": s.id })\n",
    "session.load()"
   ]
  },
  {
   "cell_type": "markdown",
   "id": "46b83658-6342-41c3-b1cb-3554306c47db",
   "metadata": {},
   "source": [
    "---"
   ]
  },
  {
   "cell_type": "markdown",
   "id": "0f25ee06-44e2-4740-983f-0142fb9dc128",
   "metadata": {},
   "source": [
    "## Experiment Preparation"
   ]
  },
  {
   "cell_type": "markdown",
   "id": "22f098fb-8ebd-4d27-b586-76b89e1664c3",
   "metadata": {},
   "source": [
    "### Setup node\n",
    "\n",
    "First, before running the experiments, we need to download the packages listed in `setup.sh`.\n",
    "\n",
    "This will take around 10 minutes to complete.\n",
    "\n",
    "<div class=\"alert alert-block alert-info\">Note: all warning in this cell can be safely ignored</div>"
   ]
  },
  {
   "cell_type": "code",
   "execution_count": 2,
   "id": "2d95c0c5-9969-43a5-ae94-13974acbca8e",
   "metadata": {},
   "outputs": [],
   "source": [
    "from chi import ssh"
   ]
  },
  {
   "cell_type": "code",
   "execution_count": 6,
   "id": "b344a770-d315-4b02-9916-011a13fe06db",
   "metadata": {},
   "outputs": [
    {
     "name": "stdout",
     "output_type": "stream",
     "text": [
      "Got floating_ip: 129.114.109.238\n"
     ]
    }
   ],
   "source": [
    "from chi import ssh\n",
    "import scripts.session as session\n",
    "import scripts.ssh_helper as ssh_helper\n",
    "\n",
    "session_data = session.load()\n",
    "floating_ip = session_data[\"floating_ip\"]\n",
    "print(\"Got floating_ip: {}\".format(floating_ip))"
   ]
  },
  {
   "cell_type": "code",
   "execution_count": 9,
   "id": "06ea49d8-3623-4460-b0e0-613f3f71a16e",
   "metadata": {},
   "outputs": [
    {
     "name": "stdout",
     "output_type": "stream",
     "text": [
      "We've copied this directory to the remote server. \"ls\" gives: \n",
      "README\n",
      "ReedSolomonEC\n",
      "anaconda3\n",
      "mlec-sim\n",
      "my_mounting_point\n",
      "openrc\n",
      "sc23-mlec\n"
     ]
    }
   ],
   "source": [
    "import scripts.ssh_helper as ssh_helper\n",
    "\n",
    "with ssh.Remote(floating_ip) as conn:\n",
    "    conn.run('rm -rf sc23-mlec')\n",
    "    conn.run('mkdir -p sc23-mlec')\n",
    "    ssh_helper.put_dir(conn, \".\", \"sc23-mlec\")\n",
    "    print(\"We've copied this directory to the remote server. \\\"ls\\\" gives: \")\n",
    "    conn.run(\"ls\")"
   ]
  },
  {
   "cell_type": "code",
   "execution_count": 13,
   "id": "128abea7-3c96-4c81-9c2d-db8c9fce44ba",
   "metadata": {},
   "outputs": [
    {
     "name": "stdout",
     "output_type": "stream",
     "text": [
      "Now we set up and install the simulator\n",
      "1. Installing Conda\n",
      "===================================\n",
      "\n",
      "Anaconda has already installed.\n",
      "2. Using conda to install \"numpy matplotlib mpmath pandas\"\n",
      "===================================\n",
      "\n",
      "Collecting package metadata (current_repodata.json): ...working... done\n",
      "Solving environment: ...working... done\n"
     ]
    },
    {
     "name": "stderr",
     "output_type": "stream",
     "text": [
      "\n",
      "\n",
      "==> WARNING: A newer version of conda exists. <==\n",
      "  current version: 23.3.1\n",
      "  latest version: 23.5.0\n",
      "\n",
      "Please update conda by running\n",
      "\n",
      "    $ conda update -n base -c defaults conda\n",
      "\n",
      "Or to minimize the number of packages updated during conda update use\n",
      "\n",
      "     conda install conda=23.5.0\n",
      "\n",
      "\n"
     ]
    },
    {
     "name": "stdout",
     "output_type": "stream",
     "text": [
      "\n",
      "# All requested packages already installed.\n",
      "\n",
      "3. Downloading mlec-sim from github\n",
      "===================================\n",
      "\n",
      "\n",
      "Successfully setup mlec-sim!\n"
     ]
    },
    {
     "name": "stderr",
     "output_type": "stream",
     "text": [
      "fatal: destination path '/home/cc/mlec-sim' already exists and is not an empty directory.\n"
     ]
    },
    {
     "name": "stdout",
     "output_type": "stream",
     "text": [
      "4. Downloading isa-l to evaluate encoding throughput\n"
     ]
    },
    {
     "name": "stderr",
     "output_type": "stream",
     "text": [
      "fatal: destination path '/home/cc/ReedSolomonEC' already exists and is not an empty directory.\n",
      "\n",
      "WARNING: apt does not have a stable CLI interface. Use with caution in scripts.\n",
      "\n"
     ]
    },
    {
     "name": "stdout",
     "output_type": "stream",
     "text": [
      "Hit:1 http://archive.ubuntu.com/ubuntu focal InRelease\n",
      "Hit:2 http://security.ubuntu.com/ubuntu focal-security InRelease\n",
      "Hit:3 http://archive.ubuntu.com/ubuntu focal-updates InRelease\n",
      "Hit:4 http://archive.ubuntu.com/ubuntu focal-backports InRelease\n",
      "Reading package lists...\n",
      "Building dependency tree...\n",
      "Reading state information...\n",
      "60 packages can be upgraded. Run 'apt list --upgradable' to see them.\n"
     ]
    },
    {
     "name": "stderr",
     "output_type": "stream",
     "text": [
      "\n",
      "WARNING: apt does not have a stable CLI interface. Use with caution in scripts.\n",
      "\n"
     ]
    },
    {
     "name": "stdout",
     "output_type": "stream",
     "text": [
      "Reading package lists...\n",
      "Building dependency tree...\n",
      "Reading state information...\n",
      "autoconf is already the newest version (2.69-11.1).\n",
      "g++ is already the newest version (4:9.3.0-1ubuntu2).\n",
      "gcc is already the newest version (4:9.3.0-1ubuntu2).\n",
      "libtool is already the newest version (2.4.6-14).\n",
      "make is already the newest version (4.2.1-1.2).\n",
      "nasm is already the newest version (2.14.02-1).\n",
      "0 upgraded, 0 newly installed, 0 to remove and 60 not upgraded.\n",
      "Reading package lists...\n",
      "Building dependency tree...\n",
      "Reading state information...\n",
      "nasm is already the newest version (2.14.02-1).\n",
      "yasm is already the newest version (1.3.0-2ubuntu1).\n",
      "0 upgraded, 0 newly installed, 0 to remove and 60 not upgraded.\n",
      "Configuring isa-l... \n"
     ]
    },
    {
     "name": "stderr",
     "output_type": "stream",
     "text": [
      "configure.ac:23: installing 'build-aux/compile'\n",
      "configure.ac:12: installing 'build-aux/missing'\n",
      "Makefile.am: installing 'build-aux/depcomp'\n"
     ]
    },
    {
     "name": "stdout",
     "output_type": "stream",
     "text": [
      "Compiling EC performance evaluation scripts...\n",
      "Successfully setup isa-l!\n"
     ]
    }
   ],
   "source": [
    "with ssh.Remote(floating_ip) as conn:\n",
    "    print(\"Now we set up and install the simulator\")\n",
    "    conn.run(\"cd sc23-mlec/scripts && bash setup-node.sh\")"
   ]
  },
  {
   "cell_type": "code",
   "execution_count": null,
   "id": "6d6e1fc0-6727-4b2b-a7fd-a09b5ba9fad0",
   "metadata": {},
   "outputs": [],
   "source": []
  }
 ],
 "metadata": {
  "kernelspec": {
   "display_name": "Python 3 (ipykernel)",
   "language": "python",
   "name": "python3"
  },
  "language_info": {
   "codemirror_mode": {
    "name": "ipython",
    "version": 3
   },
   "file_extension": ".py",
   "mimetype": "text/x-python",
   "name": "python",
   "nbconvert_exporter": "python",
   "pygments_lexer": "ipython3",
   "version": "3.10.9"
  }
 },
 "nbformat": 4,
 "nbformat_minor": 5
}
