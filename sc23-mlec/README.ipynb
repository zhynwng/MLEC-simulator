{
 "cells": [
  {
   "cell_type": "markdown",
   "id": "806bb2e7-4a08-4a64-8ce3-29f80fda8dfd",
   "metadata": {},
   "source": [
    "# README"
   ]
  },
  {
   "cell_type": "markdown",
   "id": "8d174d00-f6ee-4d63-9c5b-9e86cb091ad7",
   "metadata": {},
   "source": [
    "Users can run our artifact by running the Jupyter notebooks in the following order:\n",
    "\n",
    "    - Setup.ipynb should be run first to reserve the node from ChameleonCloud, build the OS image, install the required packages, and download and set up our simulator and evaluation tools. This notebook can take 10-20 minutes.\n",
    "    \n",
    "    - Fig5.ipynb computes burst tolerance for different MLEC schemes and repair methods using dynamic programming. It then reproduces Figure 5 based on experiment results. It should take 10 minutes to run.\n",
    "    \n",
    "    - Fig8.ipynb runs simulation in \"normal\" mode and evaluates the repair network traffic for different MLEC schemes and repair methods. It then plots Figure 8 based on experiment results. It should take 5-10 minutes to run.\n",
    "    \n",
    "    - Fig10.ipynb runs simulation in \"splitting\" mode to simulate the high durability for different MLEC schemes and repair methods. It then plots Figure 10 based on experiment results. It takes 3-4 hours to finish. Since it takes long time, we run the experiments in the background using \"tmux\". We also provide a script to help monitor if the experiments have finished or not.\n",
    "    \n",
    "    - Fig11.ipynb measures the encoding throughput for different SLEC configurations and then plot a heatmap (Figure 11) for it. It takes 2-3 hours to finish and we also run it in the background.\n",
    "    \n",
    "    - Fig12a.ipynb evaluates the durability and throughput for different EC schemes. The durability evaluation is done using \"splitting\" method, which is complicated to configure and time-consuming to run. Therefore, we provide well-prepared scripts to run the experiments, and reproduce 10 data points from Figure 12a. These data points should be representative enough to show the patterns and findings mentioned in the paper. It takes 3-5 hours to finish and we also run it in the background.\n",
    "\n",
    "In summary, the entire artifact takes 8-12 hours to run. But many of then are configured to run in the background using \"tmux\", which we hope can help save reviewers' time"
   ]
  },
  {
   "cell_type": "code",
   "execution_count": null,
   "id": "3d10595d-7850-4683-8933-8eef0ace8462",
   "metadata": {},
   "outputs": [],
   "source": []
  }
 ],
 "metadata": {
  "kernelspec": {
   "display_name": "Python 3 (ipykernel)",
   "language": "python",
   "name": "python3"
  },
  "language_info": {
   "codemirror_mode": {
    "name": "ipython",
    "version": 3
   },
   "file_extension": ".py",
   "mimetype": "text/x-python",
   "name": "python",
   "nbconvert_exporter": "python",
   "pygments_lexer": "ipython3",
   "version": "3.10.9"
  }
 },
 "nbformat": 4,
 "nbformat_minor": 5
}
